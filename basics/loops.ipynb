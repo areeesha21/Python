{
 "cells": [
  {
   "cell_type": "markdown",
   "metadata": {},
   "source": [
    "### fuctions used along with loops\n",
    "-enumerate()\n",
    "-zip()\n"
   ]
  },
  {
   "cell_type": "code",
   "execution_count": 16,
   "metadata": {},
   "outputs": [
    {
     "name": "stdout",
     "output_type": "stream",
     "text": [
      "(0, 'ritesh')\n",
      "(1, 'areesha')\n",
      "(2, 'muskan')\n",
      "(3, 'priya')\n",
      "(4, 'himanshu')\n"
     ]
    }
   ],
   "source": [
    "names =[\"ritesh\",\"areesha\",\"muskan\",\"priya\",\"himanshu\"]\n",
    "for nm in enumerate(names):\n",
    "    print(nm)"
   ]
  },
  {
   "cell_type": "code",
   "execution_count": 17,
   "metadata": {},
   "outputs": [
    {
     "name": "stdout",
     "output_type": "stream",
     "text": [
      "riteshis at index0\n",
      "areeshais at index1\n",
      "muskanis at index2\n",
      "priyais at index3\n",
      "himanshuis at index4\n"
     ]
    }
   ],
   "source": [
    "for i,nm in enumerate(names):\n",
    "    print(f'{nm}is at index{i}')"
   ]
  },
  {
   "cell_type": "code",
   "execution_count": 19,
   "metadata": {},
   "outputs": [],
   "source": [
    "bday=['12 oct','21 june',\"18 jan\",\"9 dec\"]"
   ]
  },
  {
   "cell_type": "code",
   "execution_count": 20,
   "metadata": {},
   "outputs": [
    {
     "name": "stdout",
     "output_type": "stream",
     "text": [
      "ritesh has 🎂 on 12 oct\n",
      "areesha has 🎂 on 21 june\n",
      "muskan has 🎂 on 18 jan\n",
      "priya has 🎂 on 9 dec\n"
     ]
    }
   ],
   "source": [
    "for nm,date in zip(names,bday):\n",
    "    print(f'{nm} has 🎂 on {date}')\n",
    "\n"
   ]
  },
  {
   "cell_type": "code",
   "execution_count": 21,
   "metadata": {},
   "outputs": [
    {
     "name": "stdout",
     "output_type": "stream",
     "text": [
      "tv | $40000 | 5pcs | total =200000\n",
      "fridge | $50000 | 10pcs | total =500000\n",
      "table fan | $5000 | 25pcs | total =125000\n"
     ]
    }
   ],
   "source": [
    "products =[\"tv\",\"fridge\",\"table fan\"]\n",
    "prices=[\"40000\",\"50000\",\"5000\"]\n",
    "qty=[5,10,25]\n",
    "for p,pr,q in zip(products,prices,qty):\n",
    "    print(f'{p} | ${pr} | {q}pcs | total ={int(pr)*q}')"
   ]
  },
  {
   "cell_type": "markdown",
   "metadata": {},
   "source": [
    "### loop control\n",
    "\n",
    "-break => exit loop\n",
    "\n",
    "-continue=>skip a turn"
   ]
  },
  {
   "cell_type": "code",
   "execution_count": 12,
   "metadata": {},
   "outputs": [
    {
     "name": "stdout",
     "output_type": "stream",
     "text": [
      "1\n",
      "2\n",
      "3\n",
      "4\n",
      "5\n",
      "6\n",
      "7\n",
      "8\n",
      "9\n",
      "10\n"
     ]
    }
   ],
   "source": [
    "x=[1,2,3,4,0,5,6,7,0,8,9,10,0,0,]\n",
    "for i in x:\n",
    "    if i==0:\n",
    "        continue\n",
    "    print(i)"
   ]
  },
  {
   "cell_type": "code",
   "execution_count": 22,
   "metadata": {},
   "outputs": [
    {
     "name": "stdout",
     "output_type": "stream",
     "text": [
      "1\n",
      "2\n",
      "3\n",
      "4\n",
      "invalid data found,stopping code\n"
     ]
    }
   ],
   "source": [
    "x=[1,2,3,4,0,5,6,7,0,8,9,10,0,0,]\n",
    "for i in x:\n",
    "    if i==0:\n",
    "        print(\"invalid data found,stopping code\")\n",
    "        break\n",
    "    print(i)"
   ]
  },
  {
   "cell_type": "code",
   "execution_count": 23,
   "metadata": {},
   "outputs": [
    {
     "name": "stdout",
     "output_type": "stream",
     "text": [
      "ritesh\n",
      "areesha\n",
      "muskan\n",
      "priya\n",
      "himanshu\n"
     ]
    }
   ],
   "source": [
    "for i,nm in enumerate(names):\n",
    "    if i==5:\n",
    "        break\n",
    "    print(nm)"
   ]
  },
  {
   "cell_type": "markdown",
   "metadata": {},
   "source": [
    "for - else\n"
   ]
  },
  {
   "cell_type": "code",
   "execution_count": 33,
   "metadata": {},
   "outputs": [
    {
     "name": "stdout",
     "output_type": "stream",
     "text": [
      "2 3 loop broken\n"
     ]
    }
   ],
   "source": [
    "c=True\n",
    "for i in [2,3,5,6,7,8,9]:\n",
    "    if i== 5:\n",
    "        c=False\n",
    "        break\n",
    "    print(i , end=' ')\n",
    "if c:\n",
    "    print('loop completed')\n",
    "else:\n",
    "     print(\"loop broken\")"
   ]
  },
  {
   "cell_type": "code",
   "execution_count": 37,
   "metadata": {},
   "outputs": [
    {
     "name": "stdout",
     "output_type": "stream",
     "text": [
      "2 3 9 loop broken\n"
     ]
    }
   ],
   "source": [
    "for i in[2,3,9,5,6,7,7,4,4]:\n",
    "    if i== 5:\n",
    "        print(\"loop broken\")\n",
    "        break\n",
    "    print(i , end=' ')\n",
    "else:\n",
    "    print(\"loop completed\")"
   ]
  },
  {
   "cell_type": "markdown",
   "metadata": {},
   "source": [
    "while loop"
   ]
  },
  {
   "cell_type": "code",
   "execution_count": 1,
   "metadata": {},
   "outputs": [
    {
     "name": "stdout",
     "output_type": "stream",
     "text": [
      "100\n",
      "90\n",
      "80\n",
      "70\n",
      "60\n",
      "50\n",
      "40\n",
      "30\n",
      "20\n",
      "10\n"
     ]
    }
   ],
   "source": [
    "x=100\n",
    "while x > 0:\n",
    "     print(x)\n",
    "     x-=10"
   ]
  }
 ],
 "metadata": {
  "kernelspec": {
   "display_name": "Python 3.9.12 ('base')",
   "language": "python",
   "name": "python3"
  },
  "language_info": {
   "codemirror_mode": {
    "name": "ipython",
    "version": 3
   },
   "file_extension": ".py",
   "mimetype": "text/x-python",
   "name": "python",
   "nbconvert_exporter": "python",
   "pygments_lexer": "ipython3",
   "version": "3.9.12"
  },
  "orig_nbformat": 4,
  "vscode": {
   "interpreter": {
    "hash": "5f7df73bbd6ab3c5611b8eaa601f1ecb7ebd4fbc46d6ad44389389d741a84197"
   }
  }
 },
 "nbformat": 4,
 "nbformat_minor": 2
}
