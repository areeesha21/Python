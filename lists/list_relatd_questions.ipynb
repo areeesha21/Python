{
 "cells": [
  {
   "cell_type": "markdown",
   "metadata": {},
   "source": [
    "#take 2 list and create another list by adding elements of both list together according to index\n",
    "x=[1,2,3]\n",
    "y=[4,5,6]\n",
    "\n",
    "#answr\n",
    "z=[5,7,9]\n",
    "\n"
   ]
  },
  {
   "cell_type": "code",
   "execution_count": 2,
   "metadata": {},
   "outputs": [
    {
     "name": "stdout",
     "output_type": "stream",
     "text": [
      "[1, 2, 4, 5, 6]\n",
      "[2, 3, 5, 1, 2]\n",
      "---------------\n",
      "[[1, 2, 4, 5, 6], [1, 2, 4, 5, 6], [1, 2, 4, 5, 6], [1, 2, 4, 5, 6], [1, 2, 4, 5, 6]]\n"
     ]
    }
   ],
   "source": [
    "z=[ ]\n",
    "a=[1,2,4,5,6]\n",
    "b=[2,3,5,1,2]\n",
    "for i,j in zip(a,b):\n",
    "    ans=i+j\n",
    "    z.append(a)\n",
    "print(a)\n",
    "print(b)\n",
    "print('-'*15)\n",
    "print(z)\n",
    "\n"
   ]
  },
  {
   "cell_type": "code",
   "execution_count": null,
   "metadata": {},
   "outputs": [],
   "source": []
  },
  {
   "cell_type": "markdown",
   "metadata": {},
   "source": [
    "we have a length of 5 items in one list and width of 5 items in another list . calculate the area and store them into third list ,take one item from both list at a time\n",
    "\n",
    "length=[1,2,3,4,5]\n",
    "width=[2,2,3,4,5]\n",
    "\n",
    "answer \n",
    "area=[2,2,75,55]\n",
    "\n",
    "# Question\n",
    "we have a list of number we need to square each number and store them into  another list\n",
    "\n",
    "numbers=[1,2,3,4,5]\n",
    "answer\n",
    "square=[1,4,9,16,25]"
   ]
  },
  {
   "cell_type": "code",
   "execution_count": 4,
   "metadata": {},
   "outputs": [
    {
     "name": "stdout",
     "output_type": "stream",
     "text": [
      "['hello', 'alphabet', 'python', 'worldwide']\n",
      "[5, 8, 6, 9]\n"
     ]
    }
   ],
   "source": [
    "words=['hello','alphabet','python','worldwide']\n",
    "sizes=[len(w)for w in words]\n",
    "print(words)\n",
    "print(sizes)"
   ]
  }
 ],
 "metadata": {
  "kernelspec": {
   "display_name": "Python 3.9.12 ('base')",
   "language": "python",
   "name": "python3"
  },
  "language_info": {
   "codemirror_mode": {
    "name": "ipython",
    "version": 3
   },
   "file_extension": ".py",
   "mimetype": "text/x-python",
   "name": "python",
   "nbconvert_exporter": "python",
   "pygments_lexer": "ipython3",
   "version": "3.9.12 (main, Apr  4 2022, 05:22:27) [MSC v.1916 64 bit (AMD64)]"
  },
  "orig_nbformat": 4,
  "vscode": {
   "interpreter": {
    "hash": "5f7df73bbd6ab3c5611b8eaa601f1ecb7ebd4fbc46d6ad44389389d741a84197"
   }
  }
 },
 "nbformat": 4,
 "nbformat_minor": 2
}
